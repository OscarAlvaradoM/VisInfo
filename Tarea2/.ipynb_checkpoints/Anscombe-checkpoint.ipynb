{
 "cells": [
  {
   "cell_type": "markdown",
   "metadata": {},
   "source": [
    "# Notebook tarea 2 VisInfo.\n",
    "## Óscar Anuar Alvarado Morán"
   ]
  },
  {
   "cell_type": "markdown",
   "metadata": {},
   "source": [
    "6.- Leer el artículo: Francis Anscombe, (1973). \"Graphs in Statistical Analysis\". American Statistician. 27 (1): 17–21. doi:10.1080/00031305.1973.10478966. JSTOR 2682899. (LINK LOCAL). **Poner especial atención a la sección** : *3. An example.*"
   ]
  },
  {
   "cell_type": "code",
   "execution_count": 1,
   "metadata": {},
   "outputs": [],
   "source": [
    "import pandas as pd \n",
    "import numpy as np\n",
    "\n",
    "import matplotlib.pyplot as plt\n",
    "import matplotlib.patches as mpatches\n",
    "\n",
    "import random\n",
    "\n",
    "from sklearn.linear_model import LinearRegression"
   ]
  },
  {
   "cell_type": "markdown",
   "metadata": {},
   "source": [
    "7.- Completar el notebook \"Anscombe.ipynb\" con lo siguiente:"
   ]
  },
  {
   "cell_type": "markdown",
   "metadata": {},
   "source": [
    "(A) Su punto de vista del artículo mencionado en el punto 1 (particularmente de la sección 3)"
   ]
  },
  {
   "cell_type": "markdown",
   "metadata": {},
   "source": [
    "Pues creo que es un artículo que habla básicamente de lo que vimos en clase: la importancia de visualizar los datos y no sólo irnos por el enfoque estadístico. Vemos que tenemos en la sección 3 el planteameanto de los datos que vemos a continunación en el notebook y se hace un análisis de lo que muestran las gráficas y los datos esadísticos que se pueden obtener de ahí, resulta curioso que para los 4 conjuntos de datos tenemos muchas similitudes estadísticas pero sin embargo sólo uno de los conjuntos de datos (el primero) cumple las propiedades de una distribución que diríamos que se suele encontrar y cumple unas condiciones planteadas en secciones anteriores, los demás conjuntos no cumplen dichas condiciones y sin embargo tienen las similitudes estadísticas antes mencionadas entre sí."
   ]
  },
  {
   "cell_type": "code",
   "execution_count": 2,
   "metadata": {},
   "outputs": [],
   "source": [
    "data = pd.read_csv('AnscombeQuartet.txt', sep='\\t', header=None)"
   ]
  },
  {
   "cell_type": "code",
   "execution_count": 3,
   "metadata": {},
   "outputs": [
    {
     "data": {
      "text/html": [
       "<div>\n",
       "<style scoped>\n",
       "    .dataframe tbody tr th:only-of-type {\n",
       "        vertical-align: middle;\n",
       "    }\n",
       "\n",
       "    .dataframe tbody tr th {\n",
       "        vertical-align: top;\n",
       "    }\n",
       "\n",
       "    .dataframe thead th {\n",
       "        text-align: right;\n",
       "    }\n",
       "</style>\n",
       "<table border=\"1\" class=\"dataframe\">\n",
       "  <thead>\n",
       "    <tr style=\"text-align: right;\">\n",
       "      <th></th>\n",
       "      <th>0</th>\n",
       "      <th>1</th>\n",
       "      <th>2</th>\n",
       "      <th>3</th>\n",
       "      <th>4</th>\n",
       "      <th>5</th>\n",
       "      <th>6</th>\n",
       "      <th>7</th>\n",
       "    </tr>\n",
       "  </thead>\n",
       "  <tbody>\n",
       "    <tr>\n",
       "      <th>0</th>\n",
       "      <td>10.0</td>\n",
       "      <td>8.04</td>\n",
       "      <td>10.0</td>\n",
       "      <td>9.14</td>\n",
       "      <td>10.0</td>\n",
       "      <td>7.46</td>\n",
       "      <td>8.0</td>\n",
       "      <td>6.58</td>\n",
       "    </tr>\n",
       "    <tr>\n",
       "      <th>1</th>\n",
       "      <td>8.0</td>\n",
       "      <td>6.95</td>\n",
       "      <td>8.0</td>\n",
       "      <td>8.14</td>\n",
       "      <td>8.0</td>\n",
       "      <td>6.77</td>\n",
       "      <td>8.0</td>\n",
       "      <td>5.76</td>\n",
       "    </tr>\n",
       "    <tr>\n",
       "      <th>2</th>\n",
       "      <td>13.0</td>\n",
       "      <td>7.58</td>\n",
       "      <td>13.0</td>\n",
       "      <td>8.74</td>\n",
       "      <td>13.0</td>\n",
       "      <td>12.74</td>\n",
       "      <td>8.0</td>\n",
       "      <td>7.71</td>\n",
       "    </tr>\n",
       "    <tr>\n",
       "      <th>3</th>\n",
       "      <td>9.0</td>\n",
       "      <td>8.81</td>\n",
       "      <td>9.0</td>\n",
       "      <td>8.77</td>\n",
       "      <td>9.0</td>\n",
       "      <td>7.11</td>\n",
       "      <td>8.0</td>\n",
       "      <td>8.84</td>\n",
       "    </tr>\n",
       "    <tr>\n",
       "      <th>4</th>\n",
       "      <td>11.0</td>\n",
       "      <td>8.33</td>\n",
       "      <td>11.0</td>\n",
       "      <td>9.26</td>\n",
       "      <td>11.0</td>\n",
       "      <td>7.81</td>\n",
       "      <td>8.0</td>\n",
       "      <td>8.47</td>\n",
       "    </tr>\n",
       "    <tr>\n",
       "      <th>5</th>\n",
       "      <td>14.0</td>\n",
       "      <td>9.96</td>\n",
       "      <td>14.0</td>\n",
       "      <td>8.10</td>\n",
       "      <td>14.0</td>\n",
       "      <td>8.84</td>\n",
       "      <td>8.0</td>\n",
       "      <td>7.04</td>\n",
       "    </tr>\n",
       "    <tr>\n",
       "      <th>6</th>\n",
       "      <td>6.0</td>\n",
       "      <td>7.24</td>\n",
       "      <td>6.0</td>\n",
       "      <td>6.13</td>\n",
       "      <td>6.0</td>\n",
       "      <td>6.08</td>\n",
       "      <td>8.0</td>\n",
       "      <td>5.25</td>\n",
       "    </tr>\n",
       "    <tr>\n",
       "      <th>7</th>\n",
       "      <td>4.0</td>\n",
       "      <td>4.26</td>\n",
       "      <td>4.0</td>\n",
       "      <td>3.10</td>\n",
       "      <td>4.0</td>\n",
       "      <td>5.39</td>\n",
       "      <td>19.0</td>\n",
       "      <td>12.50</td>\n",
       "    </tr>\n",
       "    <tr>\n",
       "      <th>8</th>\n",
       "      <td>12.0</td>\n",
       "      <td>10.84</td>\n",
       "      <td>12.0</td>\n",
       "      <td>9.13</td>\n",
       "      <td>12.0</td>\n",
       "      <td>8.15</td>\n",
       "      <td>8.0</td>\n",
       "      <td>5.56</td>\n",
       "    </tr>\n",
       "    <tr>\n",
       "      <th>9</th>\n",
       "      <td>7.0</td>\n",
       "      <td>4.82</td>\n",
       "      <td>7.0</td>\n",
       "      <td>7.26</td>\n",
       "      <td>7.0</td>\n",
       "      <td>6.42</td>\n",
       "      <td>8.0</td>\n",
       "      <td>7.91</td>\n",
       "    </tr>\n",
       "    <tr>\n",
       "      <th>10</th>\n",
       "      <td>5.0</td>\n",
       "      <td>5.68</td>\n",
       "      <td>5.0</td>\n",
       "      <td>4.74</td>\n",
       "      <td>5.0</td>\n",
       "      <td>5.73</td>\n",
       "      <td>8.0</td>\n",
       "      <td>6.89</td>\n",
       "    </tr>\n",
       "  </tbody>\n",
       "</table>\n",
       "</div>"
      ],
      "text/plain": [
       "       0      1     2     3     4      5     6      7\n",
       "0   10.0   8.04  10.0  9.14  10.0   7.46   8.0   6.58\n",
       "1    8.0   6.95   8.0  8.14   8.0   6.77   8.0   5.76\n",
       "2   13.0   7.58  13.0  8.74  13.0  12.74   8.0   7.71\n",
       "3    9.0   8.81   9.0  8.77   9.0   7.11   8.0   8.84\n",
       "4   11.0   8.33  11.0  9.26  11.0   7.81   8.0   8.47\n",
       "5   14.0   9.96  14.0  8.10  14.0   8.84   8.0   7.04\n",
       "6    6.0   7.24   6.0  6.13   6.0   6.08   8.0   5.25\n",
       "7    4.0   4.26   4.0  3.10   4.0   5.39  19.0  12.50\n",
       "8   12.0  10.84  12.0  9.13  12.0   8.15   8.0   5.56\n",
       "9    7.0   4.82   7.0  7.26   7.0   6.42   8.0   7.91\n",
       "10   5.0   5.68   5.0  4.74   5.0   5.73   8.0   6.89"
      ]
     },
     "execution_count": 3,
     "metadata": {},
     "output_type": "execute_result"
    }
   ],
   "source": [
    "data"
   ]
  },
  {
   "cell_type": "code",
   "execution_count": 4,
   "metadata": {},
   "outputs": [],
   "source": [
    "header = pd.MultiIndex.from_product([['Dataset 1','Dataset 2', 'Dataset 3', 'Dataset 4'],\n",
    "                                     ['x', 'y']],\n",
    "                                    names=['dat','val'])"
   ]
  },
  {
   "cell_type": "code",
   "execution_count": 5,
   "metadata": {},
   "outputs": [],
   "source": [
    "data.columns = header"
   ]
  },
  {
   "cell_type": "code",
   "execution_count": 6,
   "metadata": {},
   "outputs": [],
   "source": [
    "data.index = [1,2,3,4,5,6,7,8,9,10,11]"
   ]
  },
  {
   "cell_type": "code",
   "execution_count": 7,
   "metadata": {},
   "outputs": [
    {
     "data": {
      "text/html": [
       "<div>\n",
       "<style scoped>\n",
       "    .dataframe tbody tr th:only-of-type {\n",
       "        vertical-align: middle;\n",
       "    }\n",
       "\n",
       "    .dataframe tbody tr th {\n",
       "        vertical-align: top;\n",
       "    }\n",
       "\n",
       "    .dataframe thead tr th {\n",
       "        text-align: left;\n",
       "    }\n",
       "</style>\n",
       "<table border=\"1\" class=\"dataframe\">\n",
       "  <thead>\n",
       "    <tr>\n",
       "      <th>dat</th>\n",
       "      <th colspan=\"2\" halign=\"left\">Dataset 1</th>\n",
       "      <th colspan=\"2\" halign=\"left\">Dataset 2</th>\n",
       "      <th colspan=\"2\" halign=\"left\">Dataset 3</th>\n",
       "      <th colspan=\"2\" halign=\"left\">Dataset 4</th>\n",
       "    </tr>\n",
       "    <tr>\n",
       "      <th>val</th>\n",
       "      <th>x</th>\n",
       "      <th>y</th>\n",
       "      <th>x</th>\n",
       "      <th>y</th>\n",
       "      <th>x</th>\n",
       "      <th>y</th>\n",
       "      <th>x</th>\n",
       "      <th>y</th>\n",
       "    </tr>\n",
       "  </thead>\n",
       "  <tbody>\n",
       "    <tr>\n",
       "      <th>1</th>\n",
       "      <td>10.0</td>\n",
       "      <td>8.04</td>\n",
       "      <td>10.0</td>\n",
       "      <td>9.14</td>\n",
       "      <td>10.0</td>\n",
       "      <td>7.46</td>\n",
       "      <td>8.0</td>\n",
       "      <td>6.58</td>\n",
       "    </tr>\n",
       "    <tr>\n",
       "      <th>2</th>\n",
       "      <td>8.0</td>\n",
       "      <td>6.95</td>\n",
       "      <td>8.0</td>\n",
       "      <td>8.14</td>\n",
       "      <td>8.0</td>\n",
       "      <td>6.77</td>\n",
       "      <td>8.0</td>\n",
       "      <td>5.76</td>\n",
       "    </tr>\n",
       "    <tr>\n",
       "      <th>3</th>\n",
       "      <td>13.0</td>\n",
       "      <td>7.58</td>\n",
       "      <td>13.0</td>\n",
       "      <td>8.74</td>\n",
       "      <td>13.0</td>\n",
       "      <td>12.74</td>\n",
       "      <td>8.0</td>\n",
       "      <td>7.71</td>\n",
       "    </tr>\n",
       "    <tr>\n",
       "      <th>4</th>\n",
       "      <td>9.0</td>\n",
       "      <td>8.81</td>\n",
       "      <td>9.0</td>\n",
       "      <td>8.77</td>\n",
       "      <td>9.0</td>\n",
       "      <td>7.11</td>\n",
       "      <td>8.0</td>\n",
       "      <td>8.84</td>\n",
       "    </tr>\n",
       "    <tr>\n",
       "      <th>5</th>\n",
       "      <td>11.0</td>\n",
       "      <td>8.33</td>\n",
       "      <td>11.0</td>\n",
       "      <td>9.26</td>\n",
       "      <td>11.0</td>\n",
       "      <td>7.81</td>\n",
       "      <td>8.0</td>\n",
       "      <td>8.47</td>\n",
       "    </tr>\n",
       "    <tr>\n",
       "      <th>6</th>\n",
       "      <td>14.0</td>\n",
       "      <td>9.96</td>\n",
       "      <td>14.0</td>\n",
       "      <td>8.10</td>\n",
       "      <td>14.0</td>\n",
       "      <td>8.84</td>\n",
       "      <td>8.0</td>\n",
       "      <td>7.04</td>\n",
       "    </tr>\n",
       "    <tr>\n",
       "      <th>7</th>\n",
       "      <td>6.0</td>\n",
       "      <td>7.24</td>\n",
       "      <td>6.0</td>\n",
       "      <td>6.13</td>\n",
       "      <td>6.0</td>\n",
       "      <td>6.08</td>\n",
       "      <td>8.0</td>\n",
       "      <td>5.25</td>\n",
       "    </tr>\n",
       "    <tr>\n",
       "      <th>8</th>\n",
       "      <td>4.0</td>\n",
       "      <td>4.26</td>\n",
       "      <td>4.0</td>\n",
       "      <td>3.10</td>\n",
       "      <td>4.0</td>\n",
       "      <td>5.39</td>\n",
       "      <td>19.0</td>\n",
       "      <td>12.50</td>\n",
       "    </tr>\n",
       "    <tr>\n",
       "      <th>9</th>\n",
       "      <td>12.0</td>\n",
       "      <td>10.84</td>\n",
       "      <td>12.0</td>\n",
       "      <td>9.13</td>\n",
       "      <td>12.0</td>\n",
       "      <td>8.15</td>\n",
       "      <td>8.0</td>\n",
       "      <td>5.56</td>\n",
       "    </tr>\n",
       "    <tr>\n",
       "      <th>10</th>\n",
       "      <td>7.0</td>\n",
       "      <td>4.82</td>\n",
       "      <td>7.0</td>\n",
       "      <td>7.26</td>\n",
       "      <td>7.0</td>\n",
       "      <td>6.42</td>\n",
       "      <td>8.0</td>\n",
       "      <td>7.91</td>\n",
       "    </tr>\n",
       "    <tr>\n",
       "      <th>11</th>\n",
       "      <td>5.0</td>\n",
       "      <td>5.68</td>\n",
       "      <td>5.0</td>\n",
       "      <td>4.74</td>\n",
       "      <td>5.0</td>\n",
       "      <td>5.73</td>\n",
       "      <td>8.0</td>\n",
       "      <td>6.89</td>\n",
       "    </tr>\n",
       "  </tbody>\n",
       "</table>\n",
       "</div>"
      ],
      "text/plain": [
       "dat Dataset 1        Dataset 2       Dataset 3        Dataset 4       \n",
       "val         x      y         x     y         x      y         x      y\n",
       "1        10.0   8.04      10.0  9.14      10.0   7.46       8.0   6.58\n",
       "2         8.0   6.95       8.0  8.14       8.0   6.77       8.0   5.76\n",
       "3        13.0   7.58      13.0  8.74      13.0  12.74       8.0   7.71\n",
       "4         9.0   8.81       9.0  8.77       9.0   7.11       8.0   8.84\n",
       "5        11.0   8.33      11.0  9.26      11.0   7.81       8.0   8.47\n",
       "6        14.0   9.96      14.0  8.10      14.0   8.84       8.0   7.04\n",
       "7         6.0   7.24       6.0  6.13       6.0   6.08       8.0   5.25\n",
       "8         4.0   4.26       4.0  3.10       4.0   5.39      19.0  12.50\n",
       "9        12.0  10.84      12.0  9.13      12.0   8.15       8.0   5.56\n",
       "10        7.0   4.82       7.0  7.26       7.0   6.42       8.0   7.91\n",
       "11        5.0   5.68       5.0  4.74       5.0   5.73       8.0   6.89"
      ]
     },
     "execution_count": 7,
     "metadata": {},
     "output_type": "execute_result"
    }
   ],
   "source": [
    "data"
   ]
  },
  {
   "cell_type": "code",
   "execution_count": 8,
   "metadata": {},
   "outputs": [
    {
     "data": {
      "text/html": [
       "<div>\n",
       "<style scoped>\n",
       "    .dataframe tbody tr th:only-of-type {\n",
       "        vertical-align: middle;\n",
       "    }\n",
       "\n",
       "    .dataframe tbody tr th {\n",
       "        vertical-align: top;\n",
       "    }\n",
       "\n",
       "    .dataframe thead th {\n",
       "        text-align: right;\n",
       "    }\n",
       "</style>\n",
       "<table border=\"1\" class=\"dataframe\">\n",
       "  <thead>\n",
       "    <tr style=\"text-align: right;\">\n",
       "      <th></th>\n",
       "      <th>$x_1$</th>\n",
       "      <th>$y_1$</th>\n",
       "      <th>$x_2$</th>\n",
       "      <th>$y_2$</th>\n",
       "      <th>$x_3$</th>\n",
       "      <th>$y_3$</th>\n",
       "      <th>$x_4$</th>\n",
       "      <th>$y_4$</th>\n",
       "    </tr>\n",
       "  </thead>\n",
       "  <tbody>\n",
       "    <tr>\n",
       "      <th>1</th>\n",
       "      <td>10.0</td>\n",
       "      <td>8.04</td>\n",
       "      <td>10.0</td>\n",
       "      <td>9.14</td>\n",
       "      <td>10.0</td>\n",
       "      <td>7.46</td>\n",
       "      <td>8.0</td>\n",
       "      <td>6.58</td>\n",
       "    </tr>\n",
       "    <tr>\n",
       "      <th>2</th>\n",
       "      <td>8.0</td>\n",
       "      <td>6.95</td>\n",
       "      <td>8.0</td>\n",
       "      <td>8.14</td>\n",
       "      <td>8.0</td>\n",
       "      <td>6.77</td>\n",
       "      <td>8.0</td>\n",
       "      <td>5.76</td>\n",
       "    </tr>\n",
       "    <tr>\n",
       "      <th>3</th>\n",
       "      <td>13.0</td>\n",
       "      <td>7.58</td>\n",
       "      <td>13.0</td>\n",
       "      <td>8.74</td>\n",
       "      <td>13.0</td>\n",
       "      <td>12.74</td>\n",
       "      <td>8.0</td>\n",
       "      <td>7.71</td>\n",
       "    </tr>\n",
       "    <tr>\n",
       "      <th>4</th>\n",
       "      <td>9.0</td>\n",
       "      <td>8.81</td>\n",
       "      <td>9.0</td>\n",
       "      <td>8.77</td>\n",
       "      <td>9.0</td>\n",
       "      <td>7.11</td>\n",
       "      <td>8.0</td>\n",
       "      <td>8.84</td>\n",
       "    </tr>\n",
       "    <tr>\n",
       "      <th>5</th>\n",
       "      <td>11.0</td>\n",
       "      <td>8.33</td>\n",
       "      <td>11.0</td>\n",
       "      <td>9.26</td>\n",
       "      <td>11.0</td>\n",
       "      <td>7.81</td>\n",
       "      <td>8.0</td>\n",
       "      <td>8.47</td>\n",
       "    </tr>\n",
       "    <tr>\n",
       "      <th>6</th>\n",
       "      <td>14.0</td>\n",
       "      <td>9.96</td>\n",
       "      <td>14.0</td>\n",
       "      <td>8.10</td>\n",
       "      <td>14.0</td>\n",
       "      <td>8.84</td>\n",
       "      <td>8.0</td>\n",
       "      <td>7.04</td>\n",
       "    </tr>\n",
       "    <tr>\n",
       "      <th>7</th>\n",
       "      <td>6.0</td>\n",
       "      <td>7.24</td>\n",
       "      <td>6.0</td>\n",
       "      <td>6.13</td>\n",
       "      <td>6.0</td>\n",
       "      <td>6.08</td>\n",
       "      <td>8.0</td>\n",
       "      <td>5.25</td>\n",
       "    </tr>\n",
       "    <tr>\n",
       "      <th>8</th>\n",
       "      <td>4.0</td>\n",
       "      <td>4.26</td>\n",
       "      <td>4.0</td>\n",
       "      <td>3.10</td>\n",
       "      <td>4.0</td>\n",
       "      <td>5.39</td>\n",
       "      <td>19.0</td>\n",
       "      <td>12.50</td>\n",
       "    </tr>\n",
       "    <tr>\n",
       "      <th>9</th>\n",
       "      <td>12.0</td>\n",
       "      <td>10.84</td>\n",
       "      <td>12.0</td>\n",
       "      <td>9.13</td>\n",
       "      <td>12.0</td>\n",
       "      <td>8.15</td>\n",
       "      <td>8.0</td>\n",
       "      <td>5.56</td>\n",
       "    </tr>\n",
       "    <tr>\n",
       "      <th>10</th>\n",
       "      <td>7.0</td>\n",
       "      <td>4.82</td>\n",
       "      <td>7.0</td>\n",
       "      <td>7.26</td>\n",
       "      <td>7.0</td>\n",
       "      <td>6.42</td>\n",
       "      <td>8.0</td>\n",
       "      <td>7.91</td>\n",
       "    </tr>\n",
       "    <tr>\n",
       "      <th>11</th>\n",
       "      <td>5.0</td>\n",
       "      <td>5.68</td>\n",
       "      <td>5.0</td>\n",
       "      <td>4.74</td>\n",
       "      <td>5.0</td>\n",
       "      <td>5.73</td>\n",
       "      <td>8.0</td>\n",
       "      <td>6.89</td>\n",
       "    </tr>\n",
       "  </tbody>\n",
       "</table>\n",
       "</div>"
      ],
      "text/plain": [
       "    $x_1$  $y_1$  $x_2$  $y_2$  $x_3$  $y_3$  $x_4$  $y_4$\n",
       "1    10.0   8.04   10.0   9.14   10.0   7.46    8.0   6.58\n",
       "2     8.0   6.95    8.0   8.14    8.0   6.77    8.0   5.76\n",
       "3    13.0   7.58   13.0   8.74   13.0  12.74    8.0   7.71\n",
       "4     9.0   8.81    9.0   8.77    9.0   7.11    8.0   8.84\n",
       "5    11.0   8.33   11.0   9.26   11.0   7.81    8.0   8.47\n",
       "6    14.0   9.96   14.0   8.10   14.0   8.84    8.0   7.04\n",
       "7     6.0   7.24    6.0   6.13    6.0   6.08    8.0   5.25\n",
       "8     4.0   4.26    4.0   3.10    4.0   5.39   19.0  12.50\n",
       "9    12.0  10.84   12.0   9.13   12.0   8.15    8.0   5.56\n",
       "10    7.0   4.82    7.0   7.26    7.0   6.42    8.0   7.91\n",
       "11    5.0   5.68    5.0   4.74    5.0   5.73    8.0   6.89"
      ]
     },
     "execution_count": 8,
     "metadata": {},
     "output_type": "execute_result"
    }
   ],
   "source": [
    "data.columns = ['$x_1$','$y_1$','$x_2$','$y_2$','$x_3$','$y_3$','$x_4$','$y_4$']\n",
    "data"
   ]
  },
  {
   "cell_type": "markdown",
   "metadata": {},
   "source": [
    "(B) Realizar los cálculos descritos en la transparencia 11 de la presentación Intro. a la Vis."
   ]
  },
  {
   "cell_type": "markdown",
   "metadata": {},
   "source": [
    "- Promedio/Esperanza/Valor esperado de x"
   ]
  },
  {
   "cell_type": "code",
   "execution_count": 9,
   "metadata": {},
   "outputs": [
    {
     "name": "stdout",
     "output_type": "stream",
     "text": [
      "Promedio de x_1:  9.0\n",
      "Promedio de x_2:  9.0\n",
      "Promedio de x_3:  9.0\n",
      "Promedio de x_4:  9.0\n"
     ]
    }
   ],
   "source": [
    "for i in range(1, 5):\n",
    "    print(f'Promedio de x_{i}: ',np.mean(data[f'$x_{i}$']))"
   ]
  },
  {
   "cell_type": "markdown",
   "metadata": {},
   "source": [
    "- Sample variance of x"
   ]
  },
  {
   "cell_type": "code",
   "execution_count": 10,
   "metadata": {
    "scrolled": true
   },
   "outputs": [
    {
     "name": "stdout",
     "output_type": "stream",
     "text": [
      "Varianza de x_1:  11.0\n",
      "Varianza de x_2:  11.0\n",
      "Varianza de x_3:  11.0\n",
      "Varianza de x_4:  11.0\n"
     ]
    }
   ],
   "source": [
    "for i in range(1, 5):\n",
    "    samp_var = sum((data[f'$x_{i}$']-np.mean(data[f'$x_{i}$']))**2) / (len(data[f'$x_{i}$'])-1)\n",
    "    print(f'Varianza de x_{i}: ', samp_var)"
   ]
  },
  {
   "cell_type": "markdown",
   "metadata": {},
   "source": [
    "- Promedio/Esperanza/Valor esperado de y"
   ]
  },
  {
   "cell_type": "code",
   "execution_count": 11,
   "metadata": {},
   "outputs": [
    {
     "name": "stdout",
     "output_type": "stream",
     "text": [
      "Promedio de y_1:  7.500909090909093\n",
      "Promedio de y_2:  7.500909090909091\n",
      "Promedio de y_3:  7.500000000000001\n",
      "Promedio de y_4:  7.50090909090909\n"
     ]
    }
   ],
   "source": [
    "for i in range(1, 5):\n",
    "    print(f'Promedio de y_{i}: ',np.mean(data[f'$y_{i}$']))"
   ]
  },
  {
   "cell_type": "markdown",
   "metadata": {},
   "source": [
    "- Sample variance of y"
   ]
  },
  {
   "cell_type": "code",
   "execution_count": 12,
   "metadata": {},
   "outputs": [
    {
     "name": "stdout",
     "output_type": "stream",
     "text": [
      "Varianza de y_1:  4.127269090909091\n",
      "Varianza de y_2:  4.127629090909091\n",
      "Varianza de y_3:  4.12262\n",
      "Varianza de y_4:  4.12324909090909\n"
     ]
    }
   ],
   "source": [
    "for i in range(1, 5):\n",
    "    samp_var = sum((data[f'$y_{i}$']-np.mean(data[f'$y_{i}$']))**2) / (len(data[f'$y_{i}$'])-1)\n",
    "    print(f'Varianza de y_{i}: ', samp_var)"
   ]
  },
  {
   "cell_type": "code",
   "execution_count": 13,
   "metadata": {},
   "outputs": [
    {
     "name": "stdout",
     "output_type": "stream",
     "text": [
      "Correlación de x_1 con y_1: 0.81642051634484\n",
      "Correlación de x_2 con y_2: 0.8162365060002428\n",
      "Correlación de x_3 con y_3: 0.8162867394895982\n",
      "Correlación de x_4 con y_4: 0.8165214368885031\n"
     ]
    }
   ],
   "source": [
    "# Correlación entre x e y\n",
    "for i in range(1,5):\n",
    "    correlacion = np.corrcoef(data[f'$x_{i}$'], data[f'$y_{i}$'])[0,1]\n",
    "    print(f'Correlación de x_{i} con y_{i}:', correlacion)"
   ]
  },
  {
   "cell_type": "code",
   "execution_count": 14,
   "metadata": {},
   "outputs": [],
   "source": [
    "def regresionLineal(data, i):\n",
    "    X = data.iloc[:, i].values.reshape(-1, 1)  # values converts it into a numpy array\n",
    "    Y = data.iloc[:, i+1].values.reshape(-1, 1)  # -1 means that calculate the dimension of rows, but have 1 column\n",
    "    linear_regressor = LinearRegression()  # create object for the class\n",
    "    linear_regressor.fit(X, Y)  # perform linear regression\n",
    "    pendiente = linear_regressor.coef_[0][0]\n",
    "    inter = linear_regressor.intercept_[0]\n",
    "    coefs = [pendiente, inter]\n",
    "    score = linear_regressor.score(X,Y)\n",
    "    \n",
    "    X_pred =np.arange(0,21,1)\n",
    "    X_pred.shape = (-1,1)\n",
    "    Y_pred = linear_regressor.predict(X_pred)  # make predictions\n",
    "    \n",
    "    return X, Y, X_pred, Y_pred, coefs, score"
   ]
  },
  {
   "cell_type": "code",
   "execution_count": 15,
   "metadata": {},
   "outputs": [
    {
     "name": "stdout",
     "output_type": "stream",
     "text": [
      "Coeficientes para el Dataset 1: [0.5000909090909093, 3.0000909090909094]\n",
      "R^2 para el Dataset 1: 0.6665424595087748 \n",
      "\n",
      "Coeficientes para el Dataset 2: [0.5000000000000001, 3.000909090909089]\n",
      "R^2 para el Dataset 2: 0.6662420337274844 \n",
      "\n",
      "Coeficientes para el Dataset 3: [0.4997272727272728, 3.002454545454545]\n",
      "R^2 para el Dataset 3: 0.6663240410665592 \n",
      "\n",
      "Coeficientes para el Dataset 4: [0.4999090909090909, 3.0017272727272726]\n",
      "R^2 para el Dataset 4: 0.6667072568984653 \n",
      "\n"
     ]
    }
   ],
   "source": [
    "i = 0\n",
    "for a in range(4):\n",
    "    X, Y, X_pred, Y_pred, coefs, score = regresionLineal(data, i)\n",
    "    print(f'Coeficientes para el Dataset {int(np.ceil((i+1)/2))}: {coefs}')\n",
    "    print(f'R^2 para el Dataset {int(np.ceil((i+1)/2))}: {score} \\n')\n",
    "    i += 2"
   ]
  },
  {
   "cell_type": "markdown",
   "metadata": {},
   "source": [
    "(C) \"Retocar\" los gráficos para que se muestre la información que es necesaria (etiquetas en los ejes, títulos, leyendas, tipo de marcadores, colores, etc)."
   ]
  },
  {
   "cell_type": "code",
   "execution_count": 22,
   "metadata": {},
   "outputs": [],
   "source": [
    "def graficar(ax, X, Y, X_pred, Y_pred, coefs, score, i):\n",
    "    color1 = \"#{:06x}\".format(random.randint(0, 0xFFFFFF))\n",
    "    color2 = \"#{:06x}\".format(random.randint(0, 0xFFFFFF))\n",
    "    \n",
    "    ax.plot(X_pred, Y_pred, color=color2, lw = 2, alpha = 0.5)\n",
    "    ax.scatter(X, Y, marker = 'o', c=color1, s=75)\n",
    "    ax.grid(color = 'k', linestyle = '-', linewidth = 0.3, alpha = 0.3)\n",
    "\n",
    "\n",
    "    markers = ['o', '_']\n",
    "    colors = [color1, color2]\n",
    "    labels = [f'Dataset {int(np.ceil((i+1)/2))}', 'Regresión']\n",
    "    parches = [plt.plot([],[], marker = markers[i], ms = 10, ls = \"\", mec = None, color = colors[i], \n",
    "                label=\"{:s}\".format(labels[i]) )[0]  for i in range(len(labels))]\n",
    "\n",
    "    ax.legend(handles = parches)\n",
    "    ax.set_xlabel(f'$x_{int(np.ceil((i+1)/2))}$', fontsize = 15)\n",
    "    ax.set_ylabel(f'$y_{int(np.ceil((i+1)/2))}$', fontsize = 15)\n",
    "    ax.set_title(f'Dataset {int(np.ceil((i+1)/2))}', fontsize = 20)\n",
    "    \n",
    "    ax.spines['top'].set_color('none')\n",
    "    ax.spines['right'].set_color('none')\n",
    "    \n",
    "    ax.text(16, 5, 'y = {:0.4f}x + {:0.4f} \\n $R^2 = {:0.4f}$'.format(coefs[0], coefs[1], score), \n",
    "            size = 15, rotation = 0, ha = \"center\", va = \"center\",\n",
    "            bbox=dict(boxstyle=\"round\", ec=(1., 0.5, 0.5), fc=(1., 0.8, 0.8),))\n",
    "    \n",
    "    \n",
    "    ax.set_xlim(2,20)\n",
    "    ax.set_aspect(aspect = 1.0)"
   ]
  },
  {
   "cell_type": "code",
   "execution_count": 30,
   "metadata": {},
   "outputs": [
    {
     "data": {
      "image/png": "[encoded data removed]",
      "text/plain": [
       "<Figure size 1296x576 with 4 Axes>"
      ]
     },
     "metadata": {
      "needs_background": "light"
     },
     "output_type": "display_data"
    }
   ],
   "source": [
    "fig, axes = plt.subplots(nrows = 2, ncols = 2, figsize = (18, 8))\n",
    "plt.subplots_adjust(bottom = 0.1, right = 0.8, top = 1.2)\n",
    "\n",
    "i = 0\n",
    "for a in axes:\n",
    "    for ax in a:\n",
    "        X, Y, X_pred, Y_pred, coefs, score = regresionLineal(data, i)\n",
    "        graficar(ax, X, Y, X_pred, Y_pred, coefs, score, i)\n",
    "        i += 2"
   ]
  },
  {
   "cell_type": "code",
   "execution_count": null,
   "metadata": {},
   "outputs": [],
   "source": []
  }
 ],
 "metadata": {
  "kernelspec": {
   "display_name": "Python 3",
   "language": "python",
   "name": "python3"
  },
  "language_info": {
   "codemirror_mode": {
    "name": "ipython",
    "version": 3
   },
   "file_extension": ".py",
   "mimetype": "text/x-python",
   "name": "python",
   "nbconvert_exporter": "python",
   "pygments_lexer": "ipython3",
   "version": "3.7.3"
  }
 },
 "nbformat": 4,
 "nbformat_minor": 2
}
